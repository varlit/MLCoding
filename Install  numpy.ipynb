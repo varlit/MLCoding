{
 "cells": [
  {
   "cell_type": "code",
   "execution_count": 2,
   "id": "85727082",
   "metadata": {},
   "outputs": [
    {
     "name": "stdout",
     "output_type": "stream",
     "text": [
      "Collecting numpy\n",
      "  Downloading numpy-1.21.2-cp37-cp37m-manylinux_2_12_x86_64.manylinux2010_x86_64.whl (15.7 MB)\n",
      "\u001b[K     |████████████████████████████████| 15.7 MB 4.6 MB/s eta 0:00:01\n",
      "\u001b[?25hInstalling collected packages: numpy\n",
      "Successfully installed numpy-1.21.2\n"
     ]
    }
   ],
   "source": [
    "!pip install numpy"
   ]
  },
  {
   "cell_type": "code",
   "execution_count": 14,
   "id": "a182d3d7",
   "metadata": {
    "scrolled": true
   },
   "outputs": [
    {
     "name": "stdout",
     "output_type": "stream",
     "text": [
      "[ 9 11]\n",
      "[7, 8, 9, 10, 11]\n"
     ]
    },
    {
     "data": {
      "text/plain": [
       "9"
      ]
     },
     "execution_count": 14,
     "metadata": {},
     "output_type": "execute_result"
    }
   ],
   "source": [
    "# array and list\n",
    "import numpy as np\n",
    "ary = np.array([7, 8, 9, 10, 11])  # begin index 0\n",
    "print(ary[[2, 4]])\n",
    "lst = list([7, 8, 9, 10, 11])\n",
    "#lst[2, 4]\n",
    "#lst[[2, 4]]\n",
    "print(lst)\n",
    "lst[2]\n",
    "# list[2,4]   # TypeError: 'type' object is not subscriptable\n",
    "# lst[[2,4]]    # TypeError: list indices must be integers or slices, not list"
   ]
  },
  {
   "cell_type": "code",
   "execution_count": null,
   "id": "a6ddfb88",
   "metadata": {},
   "outputs": [],
   "source": []
  }
 ],
 "metadata": {
  "kernelspec": {
   "display_name": "Python 3",
   "language": "python",
   "name": "python3"
  },
  "language_info": {
   "codemirror_mode": {
    "name": "ipython",
    "version": 3
   },
   "file_extension": ".py",
   "mimetype": "text/x-python",
   "name": "python",
   "nbconvert_exporter": "python",
   "pygments_lexer": "ipython3",
   "version": "3.7.10"
  }
 },
 "nbformat": 4,
 "nbformat_minor": 5
}
